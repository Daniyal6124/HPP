{
  "nbformat": 4,
  "nbformat_minor": 0,
  "metadata": {
    "colab": {
      "provenance": [],
      "authorship_tag": "ABX9TyNBJrOzGTO3zP64wW+IpBMO",
      "include_colab_link": true
    },
    "kernelspec": {
      "name": "python3",
      "display_name": "Python 3"
    },
    "language_info": {
      "name": "python"
    }
  },
  "cells": [
    {
      "cell_type": "markdown",
      "metadata": {
        "id": "view-in-github",
        "colab_type": "text"
      },
      "source": [
        "<a href=\"https://colab.research.google.com/github/Daniyal6124/HPP/blob/main/HPP.ipynb\" target=\"_parent\"><img src=\"https://colab.research.google.com/assets/colab-badge.svg\" alt=\"Open In Colab\"/></a>"
      ]
    },
    {
      "cell_type": "markdown",
      "source": [
        "Loading  the Boston Housing Dataset"
      ],
      "metadata": {
        "id": "JG4c9iILAUT4"
      }
    },
    {
      "cell_type": "code",
      "source": [
        "import numpy as np\n",
        "import pandas as pd\n",
        "from sklearn.model_selection import train_test_split\n",
        "from sklearn.preprocessing import StandardScaler\n",
        "from sklearn.metrics import mean_squared_error, r2_score\n",
        "\n",
        "class LinearRegressionScratch:\n",
        "    def fit(self, X, y, lr=0.01, epochs=1000):\n",
        "        self.m, self.n = X.shape\n",
        "        self.W = np.zeros(self.n)\n",
        "        self.b = 0\n",
        "        for _ in range(epochs):\n",
        "            y_pred = X.dot(self.W) + self.b\n",
        "            # Check for NaN in y_pred\n",
        "            if np.isnan(y_pred).any():\n",
        "                print(\"Warning: NaN values encountered in y_pred during training.\")\n",
        "                y_pred = np.nan_to_num(y_pred)  # Replace NaN with 0\n",
        "\n",
        "            error = y_pred - y\n",
        "            self.W -= lr * (1/self.m) * X.T.dot(error)\n",
        "            self.b -= lr * (1/self.m) * np.sum(error)\n",
        "\n",
        "    def predict(self, X):\n",
        "        y_pred = X.dot(self.W) + self.b\n",
        "        # Check for NaN in y_pred\n",
        "        if np.isnan(y_pred).any():\n",
        "            print(\"Warning: NaN values encountered in y_pred during prediction.\")\n",
        "            y_pred = np.nan_to_num(y_pred)  # Replace NaN with 0\n",
        "        return y_pred\n",
        "\n",
        "df = pd.read_csv(\"/content/Boston - Boston.csv\")\n",
        "data = df\n",
        "df = pd.DataFrame(data.values, columns=data.columns)\n",
        "X = df.drop('price', axis=1)  # Features\n",
        "y = df['price']\n",
        "X_train, X_test, y_train, y_test = train_test_split(X, y, test_size=0.2, random_state=42)\n",
        "\n",
        "scaler = StandardScaler()\n",
        "X_train = scaler.fit_transform(X_train)\n",
        "X_test = scaler.transform(X_test)\n",
        "\n",
        "lr_model = LinearRegressionScratch()\n",
        "lr_model.fit(X_train, y_train)\n",
        "y_pred_lr = lr_model.predict(X_test)"
      ],
      "metadata": {
        "id": "hXMpKMYtATC8"
      },
      "execution_count": null,
      "outputs": []
    },
    {
      "cell_type": "markdown",
      "source": [
        "Normalizing Numerical Features"
      ],
      "metadata": {
        "id": "lXEVqlA1CBzZ"
      }
    },
    {
      "cell_type": "code",
      "source": [
        "numerical_features = df.columns[df.dtypes != 'object']\n",
        "df[numerical_features] = (df[numerical_features] - df[numerical_features].mean()) / df[numerical_features].std()\n"
      ],
      "metadata": {
        "id": "wmmbEJXZB6eE"
      },
      "execution_count": null,
      "outputs": []
    },
    {
      "cell_type": "markdown",
      "source": [
        " Model Implementation (Linear Regression)"
      ],
      "metadata": {
        "id": "mZnkcpv8CK-U"
      }
    },
    {
      "cell_type": "code",
      "source": [
        "import numpy as np\n",
        "\n",
        "class LinearRegressionScratch:\n",
        "    def fit(self, X, y, lr=0.01, epochs=1000):\n",
        "        self.m, self.n = X.shape\n",
        "        self.W = np.zeros(self.n)\n",
        "        self.b = 0\n",
        "        for _ in range(epochs):\n",
        "            y_pred = X.dot(self.W) + self.b\n",
        "            error = y_pred - y\n",
        "            self.W -= lr * (1/self.m) * X.T.dot(error)\n",
        "            self.b -= lr * (1/self.m) * np.sum(error)\n",
        "\n",
        "    def predict(self, X):\n",
        "        return X.dot(self.W) + self.b\n"
      ],
      "metadata": {
        "id": "7JVfn6sDCO-T"
      },
      "execution_count": null,
      "outputs": []
    },
    {
      "cell_type": "markdown",
      "source": [
        " Decision Tree for Random Forest and XGBoost"
      ],
      "metadata": {
        "id": "DPsSDoV-CVbn"
      }
    },
    {
      "cell_type": "code",
      "source": [
        "class DecisionTreeRegressor:\n",
        "    def __init__(self, max_depth=5, min_samples_split=10):\n",
        "        self.max_depth = max_depth\n",
        "        self.min_samples_split = min_samples_split\n",
        "        self.tree = None\n",
        "        self.feature_importances_ = None\n",
        "\n",
        "    def fit(self, X, y):\n",
        "        self.n_features = X.shape[1]\n",
        "        self.feature_importances_ = np.zeros(self.n_features)\n",
        "        self.tree = self._build_tree(X, y)\n",
        "\n",
        "    def _build_tree(self, X, y, depth=0):\n",
        "        n_samples, n_features = X.shape\n",
        "        if depth >= self.max_depth or n_samples < self.min_samples_split:\n",
        "            return np.mean(y)\n",
        "\n",
        "        best_feature, best_thresh, best_gain = None, None, -np.inf\n",
        "        for feature in range(n_features):\n",
        "            thresholds = np.unique(X[:, feature])\n",
        "            for thresh in thresholds:\n",
        "                left_idx = X[:, feature] <= thresh\n",
        "                right_idx = X[:, feature] > thresh\n",
        "                if len(y[left_idx]) < 1 or len(y[right_idx]) < 1:\n",
        "                    continue\n",
        "                gain = self._variance_reduction(y, y[left_idx], y[right_idx])\n",
        "                if gain > best_gain:\n",
        "                    best_feature, best_thresh, best_gain = feature, thresh, gain\n",
        "\n",
        "        if best_gain == -np.inf:\n",
        "            return np.mean(y)\n",
        "\n",
        "        self.feature_importances_[best_feature] += best_gain\n",
        "        left_idx = X[:, best_feature] <= best_thresh\n",
        "        right_idx = X[:, best_feature] > best_thresh\n",
        "        left = self._build_tree(X[left_idx], y[left_idx], depth + 1)\n",
        "        right = self._build_tree(X[right_idx], y[right_idx], depth + 1)\n",
        "        return (best_feature, best_thresh, left, right)\n",
        "\n",
        "    def _variance_reduction(self, parent, l_child, r_child):\n",
        "        weight_l = len(l_child) / len(parent)\n",
        "        weight_r = len(r_child) / len(parent)\n",
        "        return np.var(parent) - (weight_l * np.var(l_child) + weight_r * np.var(r_child))\n",
        "\n",
        "    def predict_sample(self, node, x):\n",
        "        if not isinstance(node, tuple):\n",
        "            return node\n",
        "        feature, thresh, left, right = node\n",
        "        if x[feature] <= thresh:\n",
        "            return self.predict_sample(left, x)\n",
        "        else:\n",
        "            return self.predict_sample(right, x)\n",
        "\n",
        "    def predict(self, X):\n",
        "        return np.array([self.predict_sample(self.tree, x) for x in X])\n",
        "\n"
      ],
      "metadata": {
        "id": "688ig340CW1h"
      },
      "execution_count": null,
      "outputs": []
    },
    {
      "cell_type": "markdown",
      "source": [
        "Random Forest"
      ],
      "metadata": {
        "id": "GQprxEg_DTzu"
      }
    },
    {
      "cell_type": "code",
      "source": [
        "class RandomForestScratch:\n",
        "    def __init__(self, n_estimators=10, max_depth=5):\n",
        "        self.n_estimators = n_estimators\n",
        "        self.max_depth = max_depth\n",
        "        self.trees = []\n",
        "        self.feature_importances_ = None\n",
        "\n",
        "    def fit(self, X, y):\n",
        "        self.feature_importances_ = np.zeros(X.shape[1])\n",
        "        for _ in range(self.n_estimators):\n",
        "            idxs = np.random.choice(len(X), len(X), replace=True)\n",
        "            X_sample, y_sample = X[idxs], y.iloc[idxs]\n",
        "            tree = DecisionTreeRegressor(max_depth=self.max_depth)\n",
        "            tree.fit(X_sample, y_sample)\n",
        "            self.trees.append(tree)\n",
        "            self.feature_importances_ += tree.feature_importances_\n",
        "        self.feature_importances_ /= self.n_estimators\n",
        "\n",
        "    def predict(self, X):\n",
        "        tree_preds = np.array([tree.predict(X) for tree in self.trees])\n",
        "        return np.mean(tree_preds, axis=0)"
      ],
      "metadata": {
        "id": "_s0Lz4DWCY4V"
      },
      "execution_count": null,
      "outputs": []
    },
    {
      "cell_type": "markdown",
      "source": [
        "Evaluation metrics"
      ],
      "metadata": {
        "id": "NQfpS46aDYFQ"
      }
    },
    {
      "cell_type": "code",
      "source": [
        "def evaluate_model(name, y_true, y_pred):\n",
        "    rmse = np.sqrt(mean_squared_error(y_true, y_pred))\n",
        "    r2 = r2_score(y_true, y_pred)\n",
        "    print(f\"{name} - RMSE: {rmse:.4f}, R2: {r2:.4f}\")"
      ],
      "metadata": {
        "id": "LXI4sxGrDXO9"
      },
      "execution_count": null,
      "outputs": []
    },
    {
      "cell_type": "markdown",
      "source": [
        "Feature Importance Plot"
      ],
      "metadata": {
        "id": "hq5bSQLiDdWp"
      }
    },
    {
      "cell_type": "code",
      "source": [
        "import matplotlib.pyplot as plt\n",
        "def plot_feature_importance(importances, feature_names, model_name):\n",
        "    sorted_idx = np.argsort(importances)[::-1]\n",
        "    plt.figure(figsize=(10, 6))\n",
        "    plt.bar(range(len(importances)), importances[sorted_idx])\n",
        "    plt.xticks(range(len(importances)), np.array(feature_names)[sorted_idx], rotation=90)\n",
        "    plt.title(f\"{model_name} Feature Importance\")\n",
        "    plt.tight_layout()\n",
        "    plt.show()"
      ],
      "metadata": {
        "id": "TDI98NJ5DcWW"
      },
      "execution_count": null,
      "outputs": []
    },
    {
      "cell_type": "markdown",
      "source": [
        "Train and evaluate Linear Regression"
      ],
      "metadata": {
        "id": "hT__n7h0DpRR"
      }
    },
    {
      "cell_type": "code",
      "source": [
        "lr_model = LinearRegressionScratch()\n",
        "lr_model.fit(X_train, y_train)\n",
        "y_pred_lr = lr_model.predict(X_test)\n",
        "evaluate_model(\"Linear Regression\", y_test, y_pred_lr)"
      ],
      "metadata": {
        "colab": {
          "base_uri": "https://localhost:8080/"
        },
        "id": "uKkJqOemDi2x",
        "outputId": "e701ab7a-fb3b-45a7-ece3-10aa7b4f6743"
      },
      "execution_count": null,
      "outputs": [
        {
          "output_type": "stream",
          "name": "stdout",
          "text": [
            "Linear Regression - RMSE: 5.0348, R2: 0.6543\n"
          ]
        }
      ]
    },
    {
      "cell_type": "markdown",
      "source": [
        "Train and evaluate Random Forest"
      ],
      "metadata": {
        "id": "AtScA8HcFDxI"
      }
    },
    {
      "cell_type": "code",
      "source": [
        "rf_model = RandomForestScratch(n_estimators=10, max_depth=6)\n",
        "rf_model.fit(X_train, y_train)\n",
        "y_pred_rf = rf_model.predict(X_test)\n",
        "evaluate_model(\"Random Forest\", y_test, y_pred_rf)\n",
        "plot_feature_importance(rf_model.feature_importances_, data.columns, \"Random Forest\")"
      ],
      "metadata": {
        "colab": {
          "base_uri": "https://localhost:8080/",
          "height": 625
        },
        "id": "ujcdtfWiDsTR",
        "outputId": "fd4527af-fd23-48f6-e609-45f6ad919d2a"
      },
      "execution_count": null,
      "outputs": [
        {
          "output_type": "stream",
          "name": "stdout",
          "text": [
            "Random Forest - RMSE: 3.2445, R2: 0.8565\n"
          ]
        },
        {
          "output_type": "display_data",
          "data": {
            "text/plain": [
              "<Figure size 1000x600 with 1 Axes>"
            ],
            "image/png": "[encoded data removed]"
          },
          "metadata": {}
        }
      ]
    },
    {
      "cell_type": "code",
      "source": [],
      "metadata": {
        "id": "G2mYzM8xFGh7"
      },
      "execution_count": null,
      "outputs": []
    }
  ]
}